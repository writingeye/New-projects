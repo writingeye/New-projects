{
 "cells": [
  {
   "cell_type": "markdown",
   "metadata": {},
   "source": [
    "# Steps:\n",
    "1. make a sictionary where letters of the alphabet are mapped to random letters\n",
    "2. replace the letter of the cypher text with the values of the dictionary \n",
    "3. make a dictionary that counts the frequency of each letter\n",
    "4. make a dictionary of single double and triple words \n",
    "5. compare the frequency with single list and make a predition "
   ]
  },
  {
   "cell_type": "markdown",
   "metadata": {},
   "source": [
    "Most Frequent Single Letters = E T A O I N S H R D L U\n",
    "\n",
    "Most Frequent Digraphs  = th er on an re he in ed nd ha at en es of or nt ea ti to it st io le is ou ar as de rt ve\n",
    "\n",
    "Most Frequent Trigraphs = the and tha ent ion tio for nde has nce edt tis oft sth men\n",
    "\n",
    "Most Common Doubles = ss ee tt ff ll mm oo\n",
    "\n",
    "Most Frequent Initial Letters = T O A W B C D S F M R H I Y E G L N P U J K\n",
    "\n",
    "One-Letter Words   \n",
    "\ta, I.\n",
    "\n",
    "Frequent Two-Letter Words\n",
    "\tof, to, in, it, is, be, as, at, so, we, he, by, or, on, do, if, me, my, up, an, go, no, us, am\n",
    "\n",
    "Frequent Three-Letter Words \tthe, and, for, are, but, not, you, all, any, can, had, her, was, one, our, out, day, get, has, him, his, how, man, new, now, old, see, two, way, who, boy, did, its, let, put, say, she, too, use\n",
    "\n",
    "Frequent Four-Letter Words \tthat, with, have, this, will, your, from, they, know, want, been, good, much, some, time"
   ]
  },
  {
   "cell_type": "code",
   "execution_count": 46,
   "metadata": {},
   "outputs": [
    {
     "name": "stdout",
     "output_type": "stream",
     "text": [
      "original message: Poetry derived from the Greek poiesis making also called versenote 1 is a form of literature that uses aesthetic and often rhythmic123 qualities of language − such as phonaesthetics sound symbolism and metre − to evoke meanings in addition to or in place of a prosaic ostensible meaning A poem is a literary composition written by a poet using this principle Poetry has a long and varied history evolving differentially across the globe It dates back at least to prehistoric times with hunting poetry in Africa and to panegyric and elegiac court poetry of the empires of the Nile Niger and Volta River valleys4 Some of the earliest written poetry in Africa occurs among the Pyramid Texts written during the 25th century BCE The earliest surviving Western Asian epic poetry the Epic of Gilgamesh was written in Sumerian Early poems in the Eurasian continent evolved from folk songs such as the Chinese Shijing as well as religious hymns the Sanskrit Rigveda the Zoroastrian Gathas the Hurrian songs and the Hebrew Psalms or from a need to retell oral epics as with the Egyptian Story of Sinuhe the Indian epic poetry and the Homeric epics the Iliad and the Odyssey Ancient Greek attempts to define poetry such as Aristotle's Poetics focused on the uses of speech in rhetoric drama song and comedy Later attempts concentrated on features such as repetition verse form and rhyme and emphasized the aesthetics which distinguish poetry from more objectivelyinformative prosaic writing   encypyted message:  Pwyzon lyojeyl fowa zcy Goyyb iwjykjk ambjht mvkw xmvvyl eyokyhwzy 1 jk m fwoa wf vjzyomzuoy zcmz ukyk mykzcyzjx mhl wfzyh ocnzcajx123 qumvjzjyk wf vmhtumty − kuxc mk icwhmykzcyzjxk kwuhl knaswvjka mhl ayzoy − zw yewby aymhjhtk jh mlljzjwh zw wo jh ivmxy wf m iowkmjx wkzyhkjsvy aymhjht A iwya jk m vjzyomon xwaiwkjzjwh dojzzyh sn m iwyz ukjht zcjk iojhxjivy Pwyzon cmk m vwht mhl emojyl cjkzwon yewvejht ljffyoyhzjmvvn mxowkk zcy tvwsy Iz lmzyk smxb mz vymkz zw ioycjkzwojx zjayk djzc cuhzjht iwyzon jh Afojxm mhl zw imhytnojx mhl yvytjmx xwuoz iwyzon wf zcy yaijoyk wf zcy Njvy Njtyo mhl Vwvzm Rjeyo emvvynk4 Sway wf zcy ymovjykz dojzzyh iwyzon jh Afojxm wxxuok mawht zcy Pnomajl Tygzk dojzzyh luojht zcy 25zc xyhzuon BCE Tcy ymovjykz kuoejejht Wykzyoh Akjmh yijx iwyzon zcy Eijx wf Gjvtmaykc dmk dojzzyh jh Suayojmh Emovn iwyak jh zcy Euomkjmh xwhzjhyhz yewveyl fowa fwvb kwhtk kuxc mk zcy Ccjhyky Scjpjht mk dyvv mk oyvjtjwuk cnahk zcy Smhkbojz Rjteylm zcy Zwowmkzojmh Gmzcmk zcy Huoojmh kwhtk mhl zcy Hysoyd Pkmvak wo fowa m hyyl zw oyzyvv womv yijxk mk djzc zcy Etnizjmh Szwon wf Sjhucy zcy Ihljmh yijx iwyzon mhl zcy Hwayojx yijxk zcy Ivjml mhl zcy Olnkkyn Ahxjyhz Goyyb mzzyaizk zw lyfjhy iwyzon kuxc mk Aojkzwzvy'k Pwyzjxk fwxukyl wh zcy ukyk wf kiyyxc jh ocyzwojx lomam kwht mhl xwayln Lmzyo mzzyaizk xwhxyhzomzyl wh fymzuoyk kuxc mk oyiyzjzjwh eyoky fwoa mhl ocnay mhl yaicmkjryl zcy mykzcyzjxk dcjxc ljkzjhtujkc iwyzon fowa awoy wspyxzjeyvnjhfwoamzjey iowkmjx dojzjht  \n",
      "{'1': 1, 'm': 6, '−': 2, 'A': 1} {'jk': 2, 'wf': 9, 'mk': 7, 'zw': 6, 'jh': 7, 'wo': 2, 'sn': 1, 'Iz': 1, 'mz': 1, 'wh': 2} {'zcy': 21, 'mhl': 12, 'cmk': 1, 'BCE': 1, 'Tcy': 1, 'dmk': 1}\n"
     ]
    },
    {
     "data": {
      "text/plain": [
       "{'1': 'i', 'm': 'a', '−': 'i', 'A': 'i'}"
      ]
     },
     "execution_count": 46,
     "metadata": {},
     "output_type": "execute_result"
    }
   ],
   "source": [
    "import random\n",
    "\n",
    "alphabets = \"abcdefghijklmnopqrstuvwxyz\"\n",
    "alphabets_list = list(alphabets)\n",
    "alphabets_list_copy = alphabets_list.copy()\n",
    "random.shuffle(alphabets_list_copy)\n",
    "cypher_key = dict(zip(alphabets_list,alphabets_list_copy))\n",
    "your_message = \"Poetry (derived from the Greek poiesis, making), also called verse,[note 1] is a form of literature that uses aesthetic and often rhythmic[1][2][3] qualities of language − such as phonaesthetics, sound symbolism, and metre − to evoke meanings in addition to, or in place of, a prosaic ostensible meaning. A poem is a literary composition, written by a poet, using this principle. Poetry has a long and varied history, evolving differentially across the globe. It dates back at least to prehistoric times with hunting poetry in Africa and to panegyric and elegiac court poetry of the empires of the Nile, Niger, and Volta River valleys.[4] Some of the earliest written poetry in Africa occurs among the Pyramid Texts written during the 25th century BCE. The earliest surviving Western Asian epic poetry, the Epic of Gilgamesh, was written in Sumerian. Early poems in the Eurasian continent evolved from folk songs such as the Chinese Shijing, as well as religious hymns (the Sanskrit Rigveda, the Zoroastrian Gathas, the Hurrian songs, and the Hebrew Psalms); or from a need to retell oral epics, as with the Egyptian Story of Sinuhe, the Indian epic poetry, and the Homeric epics, the Iliad and the Odyssey. Ancient Greek attempts to define poetry, such as Aristotle's Poetics, focused on the uses of speech in rhetoric, drama, song, and comedy. Later attempts concentrated on features such as repetition, verse form, and rhyme, and emphasized the aesthetics which distinguish poetry from more objectively-informative prosaic writing.  \"\n",
    "punctuatiions = \".,!#$%^&*@(){}[]/+_-|:;<>\"\n",
    "message = \"\"\n",
    "for char in your_message:\n",
    "    if char not in punctuatiions:\n",
    "        \n",
    "        message += char\n",
    "\n",
    "encrypted_message = \"\"\n",
    "for char in message:\n",
    "    if char in cypher_key:\n",
    "        encrypted_message += cypher_key[char]\n",
    "    else:\n",
    "        encrypted_message += char\n",
    "            \n",
    "            \n",
    "print(\"original message:\",message, \"encypyted message: \",encrypted_message)\n",
    "\n",
    "\n",
    "frequency_counter = {}\n",
    "count = 1\n",
    "encrypted_message_list = encrypted_message.split()\n",
    "for char in encrypted_message_list:\n",
    "    for letter in char:\n",
    "        if letter in frequency_counter:\n",
    "            frequency_counter[letter] += 1\n",
    "        else:\n",
    "            frequency_counter[letter] = 1\n",
    "\n",
    "\n",
    "frequency_counter            \n",
    "\n",
    "one_letter_words = {}\n",
    "two_letter_words = {}\n",
    "three_letter_words = {}\n",
    "four__letter_words = {}\n",
    "more__letter_words = {}\n",
    "\n",
    "for char in encrypted_message_list:\n",
    "    if len(char) == 1:\n",
    "        if char in one_letter_words:\n",
    "            one_letter_words[char] += 1\n",
    "        else: \n",
    "            one_letter_words[char] = 1\n",
    "    elif len(char) == 2:\n",
    "        if char in two_letter_words:\n",
    "            two_letter_words[char] += 1\n",
    "        else:\n",
    "            two_letter_words[char] = 1    \n",
    "    elif len(char) == 3:\n",
    "        if char in three_letter_words:\n",
    "            three_letter_words[char] += 1\n",
    "        else:\n",
    "            three_letter_words[char] = 1\n",
    "    elif len(char) == 4:\n",
    "        if char in four__letter_words:\n",
    "            four__letter_words[char] += 1\n",
    "        else:\n",
    "            four__letter_words[char] = 1\n",
    "    else:\n",
    "        if char in more__letter_words:\n",
    "            more__letter_words[char] += 1\n",
    "        else:\n",
    "            more__letter_words[char] = 1        \n",
    "\n",
    "print(one_letter_words,two_letter_words,three_letter_words)\n",
    "\n",
    "decrption_key = {}\n",
    "highest_value = float(\"-inf\")\n",
    "\n",
    "for keys,values in one_letter_words.items():\n",
    "    if values > highest_value:\n",
    "        highest_value = values\n",
    "for keys, values in one_letter_words.items():\n",
    "    if values == highest_value:\n",
    "        decrption_key[keys] = \"a\"\n",
    "    else:\n",
    "        decrption_key[keys] = \"i\"\n",
    "decrption_key\n",
    "\n"
   ]
  },
  {
   "cell_type": "code",
   "execution_count": 51,
   "metadata": {},
   "outputs": [
    {
     "name": "stdout",
     "output_type": "stream",
     "text": [
      "original message: Poetry derived from the Greek poiesis making also called versenote 1 is a form of literature that uses aesthetic and often rhythmic123 qualities of language − such as phonaesthetics sound symbolism and metre − to evoke meanings in addition to or in place of a prosaic ostensible meaning A poem is a literary composition written by a poet using this principle Poetry has a long and varied history evolving differentially across the globe It dates back at least to prehistoric times with hunting poetry in Africa and to panegyric and elegiac court poetry of the empires of the Nile Niger and Volta River valleys4 Some of the earliest written poetry in Africa occurs among the Pyramid Texts written during the 25th century BCE The earliest surviving Western Asian epic poetry the Epic of Gilgamesh was written in Sumerian Early poems in the Eurasian continent evolved from folk songs such as the Chinese Shijing as well as religious hymns the Sanskrit Rigveda the Zoroastrian Gathas the Hurrian songs and the Hebrew Psalms or from a need to retell oral epics as with the Egyptian Story of Sinuhe the Indian epic poetry and the Homeric epics the Iliad and the Odyssey Ancient Greek attempts to define poetry such as Aristotle's Poetics focused on the uses of speech in rhetoric drama song and comedy Later attempts concentrated on features such as repetition verse form and rhyme and emphasized the aesthetics which distinguish poetry from more objectivelyinformative prosaic writing   encypyted message:  Pkhobx yhbenhy fbkr oth Gbhhq pkehvev rjqeia jmvk wjmmhy nhbvhikoh 1 ev j fkbr kf meohbjozbh otjo zvhv jhvothoew jiy kfohi btxotrew123 gzjmeoehv kf mjiazjah − vzwt jv ptkijhvothoewv vkziy vxrukmevr jiy rhobh − ok hnkqh rhjieiav ei jyyeoeki ok kb ei pmjwh kf j pbkvjew kvohiveumh rhjieia A pkhr ev j meohbjbx wkrpkveoeki sbeoohi ux j pkho zveia otev pbeiwepmh Pkhobx tjv j mkia jiy njbehy tevokbx hnkmneia yeffhbhioejmmx jwbkvv oth amkuh Io yjohv ujwq jo mhjvo ok pbhtevokbew oerhv seot tzioeia pkhobx ei Afbewj jiy ok pjihaxbew jiy hmhaejw wkzbo pkhobx kf oth hrpebhv kf oth Nemh Neahb jiy Vkmoj Renhb njmmhxv4 Skrh kf oth hjbmehvo sbeoohi pkhobx ei Afbewj kwwzbv jrkia oth Pxbjrey Thdov sbeoohi yzbeia oth 25ot whiozbx BCE Tth hjbmehvo vzbneneia Whvohbi Aveji hpew pkhobx oth Epew kf Gemajrhvt sjv sbeoohi ei Szrhbeji Ejbmx pkhrv ei oth Ezbjveji wkioeihio hnkmnhy fbkr fkmq vkiav vzwt jv oth Cteihvh Steceia jv shmm jv bhmeaekzv txriv oth Sjivqbeo Reanhyj oth Zkbkjvobeji Gjotjv oth Hzbbeji vkiav jiy oth Hhubhs Pvjmrv kb fbkr j ihhy ok bhohmm kbjm hpewv jv seot oth Eaxpoeji Sokbx kf Seizth oth Iiyeji hpew pkhobx jiy oth Hkrhbew hpewv oth Imejy jiy oth Oyxvvhx Aiwehio Gbhhq joohrpov ok yhfeih pkhobx vzwt jv Abevokomh'v Pkhoewv fkwzvhy ki oth zvhv kf vphhwt ei bthokbew ybjrj vkia jiy wkrhyx Ljohb joohrpov wkiwhiobjohy ki fhjozbhv vzwt jv bhphoeoeki nhbvh fkbr jiy btxrh jiy hrptjvelhy oth jhvothoewv stewt yevoeiazevt pkhobx fbkr rkbh kuchwoenhmxeifkbrjoenh pbkvjew sbeoeia  \n"
     ]
    }
   ],
   "source": [
    "import random\n",
    "\n",
    "alphabets = \"abcdefghijklmnopqrstuvwxyz\"\n",
    "alphabets_list = list(alphabets)\n",
    "alphabets_list_copy = alphabets_list.copy()\n",
    "random.shuffle(alphabets_list_copy)\n",
    "cypher_key = dict(zip(alphabets_list,alphabets_list_copy))\n",
    "your_message = \"Poetry (derived from the Greek poiesis, making), also called verse,[note 1] is a form of literature that uses aesthetic and often rhythmic[1][2][3] qualities of language − such as phonaesthetics, sound symbolism, and metre − to evoke meanings in addition to, or in place of, a prosaic ostensible meaning. A poem is a literary composition, written by a poet, using this principle. Poetry has a long and varied history, evolving differentially across the globe. It dates back at least to prehistoric times with hunting poetry in Africa and to panegyric and elegiac court poetry of the empires of the Nile, Niger, and Volta River valleys.[4] Some of the earliest written poetry in Africa occurs among the Pyramid Texts written during the 25th century BCE. The earliest surviving Western Asian epic poetry, the Epic of Gilgamesh, was written in Sumerian. Early poems in the Eurasian continent evolved from folk songs such as the Chinese Shijing, as well as religious hymns (the Sanskrit Rigveda, the Zoroastrian Gathas, the Hurrian songs, and the Hebrew Psalms); or from a need to retell oral epics, as with the Egyptian Story of Sinuhe, the Indian epic poetry, and the Homeric epics, the Iliad and the Odyssey. Ancient Greek attempts to define poetry, such as Aristotle's Poetics, focused on the uses of speech in rhetoric, drama, song, and comedy. Later attempts concentrated on features such as repetition, verse form, and rhyme, and emphasized the aesthetics which distinguish poetry from more objectively-informative prosaic writing.  \"\n",
    "punctuatiions = \".,!#$%^&*@(){}[]/+_-|:;<>\"\n",
    "message = \"\"\n",
    "for char in your_message:\n",
    "    if char not in punctuatiions:\n",
    "        \n",
    "        message += char\n",
    "\n",
    "\n",
    "\n",
    "encrypted_message = \"\"\n",
    "for char in message:\n",
    "    if char in cypher_key:\n",
    "        encrypted_message += cypher_key[char]\n",
    "    else:\n",
    "        encrypted_message += char\n",
    "            \n",
    "            \n",
    "print(\"original message:\",message, \"encypyted message: \",encrypted_message)\n"
   ]
  },
  {
   "cell_type": "code",
   "execution_count": 48,
   "metadata": {},
   "outputs": [
    {
     "data": {
      "text/plain": [
       "{'P': 5,\n",
       " 't': 85,\n",
       " 'a': 151,\n",
       " 'u': 113,\n",
       " 'q': 82,\n",
       " 'k': 28,\n",
       " 'c': 36,\n",
       " 'd': 105,\n",
       " 'j': 16,\n",
       " 's': 25,\n",
       " 'e': 34,\n",
       " 'z': 54,\n",
       " 'G': 4,\n",
       " 'h': 7,\n",
       " 'g': 32,\n",
       " 'o': 88,\n",
       " 'b': 89,\n",
       " 'v': 80,\n",
       " 'n': 26,\n",
       " 'l': 38,\n",
       " 'i': 42,\n",
       " '1': 2,\n",
       " 'p': 25,\n",
       " '2': 2,\n",
       " '3': 1,\n",
       " 'y': 1,\n",
       " '−': 2,\n",
       " 'm': 7,\n",
       " 'A': 6,\n",
       " 'r': 11,\n",
       " 'I': 3,\n",
       " 'N': 2,\n",
       " 'V': 1,\n",
       " 'R': 2,\n",
       " '4': 1,\n",
       " 'S': 6,\n",
       " 'T': 2,\n",
       " 'f': 1,\n",
       " '5': 1,\n",
       " 'B': 1,\n",
       " 'C': 2,\n",
       " 'E': 5,\n",
       " 'W': 1,\n",
       " 'w': 2,\n",
       " 'Z': 1,\n",
       " 'H': 3,\n",
       " 'O': 1,\n",
       " \"'\": 1,\n",
       " 'L': 1,\n",
       " 'x': 1}"
      ]
     },
     "execution_count": 48,
     "metadata": {},
     "output_type": "execute_result"
    }
   ],
   "source": [
    "frequency_counter = {}\n",
    "count = 1\n",
    "encrypted_message_list = encrypted_message.split()\n",
    "for char in encrypted_message_list:\n",
    "    for letter in char:\n",
    "        if letter in frequency_counter:\n",
    "            frequency_counter[letter] += 1\n",
    "        else:\n",
    "            frequency_counter[letter] = 1\n",
    "\n",
    "\n",
    "frequency_counter            "
   ]
  },
  {
   "cell_type": "code",
   "execution_count": 49,
   "metadata": {},
   "outputs": [
    {
     "name": "stdout",
     "output_type": "stream",
     "text": [
      "{'1': 1, 'b': 6, '−': 2, 'A': 1} {'do': 2, 'ts': 9, 'bo': 7, 'ut': 6, 'dv': 7, 'tq': 2, 'mk': 1, 'Iu': 1, 'bu': 1, 'tv': 2} {'uza': 21, 'bvc': 12, 'zbo': 1, 'BCE': 1, 'Tza': 1, 'rbo': 1}\n"
     ]
    }
   ],
   "source": [
    "one_letter_words = {}\n",
    "two_letter_words = {}\n",
    "three_letter_words = {}\n",
    "four__letter_words = {}\n",
    "more__letter_words = {}\n",
    "\n",
    "for char in encrypted_message_list:\n",
    "    if len(char) == 1:\n",
    "        if char in one_letter_words:\n",
    "            one_letter_words[char] += 1\n",
    "        else: \n",
    "            one_letter_words[char] = 1\n",
    "    elif len(char) == 2:\n",
    "        if char in two_letter_words:\n",
    "            two_letter_words[char] += 1\n",
    "        else:\n",
    "            two_letter_words[char] = 1    \n",
    "    elif len(char) == 3:\n",
    "        if char in three_letter_words:\n",
    "            three_letter_words[char] += 1\n",
    "        else:\n",
    "            three_letter_words[char] = 1\n",
    "    elif len(char) == 4:\n",
    "        if char in four__letter_words:\n",
    "            four__letter_words[char] += 1\n",
    "        else:\n",
    "            four__letter_words[char] = 1\n",
    "    else:\n",
    "        if char in more__letter_words:\n",
    "            more__letter_words[char] += 1\n",
    "        else:\n",
    "            more__letter_words[char] = 1        \n",
    "\n",
    "print(one_letter_words,two_letter_words,three_letter_words)\n"
   ]
  },
  {
   "cell_type": "code",
   "execution_count": 50,
   "metadata": {},
   "outputs": [
    {
     "data": {
      "text/plain": [
       "{'1': 'i', 'b': 'a', '−': 'i', 'A': 'i'}"
      ]
     },
     "execution_count": 50,
     "metadata": {},
     "output_type": "execute_result"
    }
   ],
   "source": [
    "decrption_key = {}\n",
    "highest_value = float(\"-inf\")\n",
    "\n",
    "for keys,values in one_letter_words.items():\n",
    "    if values > highest_value:\n",
    "        highest_value = values\n",
    "for keys, values in one_letter_words.items():\n",
    "    if values == highest_value:\n",
    "        decrption_key[keys] = \"a\"\n",
    "    else:\n",
    "        decrption_key[keys] = \"i\"\n",
    "decrption_key\n"
   ]
  },
  {
   "cell_type": "code",
   "execution_count": null,
   "metadata": {},
   "outputs": [],
   "source": [
    "\n"
   ]
  },
  {
   "cell_type": "code",
   "execution_count": 44,
   "metadata": {},
   "outputs": [
    {
     "data": {
      "text/plain": [
       "\"Poetry derived from the Greek poiesis making also called versenote 1 is a form of literature that uses aesthetic and often rhythmic123 qualities of language − such as phonaesthetics sound symbolism and metre − to evoke meanings in addition to or in place of a prosaic ostensible meaning A poem is a literary composition written by a poet using this principle Poetry has a long and varied history evolving differentially across the globe It dates back at least to prehistoric times with hunting poetry in Africa and to panegyric and elegiac court poetry of the empires of the Nile Niger and Volta River valleys4 Some of the earliest written poetry in Africa occurs among the Pyramid Texts written during the 25th century BCE The earliest surviving Western Asian epic poetry the Epic of Gilgamesh was written in Sumerian Early poems in the Eurasian continent evolved from folk songs such as the Chinese Shijing as well as religious hymns the Sanskrit Rigveda the Zoroastrian Gathas the Hurrian songs and the Hebrew Psalms or from a need to retell oral epics as with the Egyptian Story of Sinuhe the Indian epic poetry and the Homeric epics the Iliad and the Odyssey Ancient Greek attempts to define poetry such as Aristotle's Poetics focused on the uses of speech in rhetoric drama song and comedy Later attempts concentrated on features such as repetition verse form and rhyme and emphasized the aesthetics which distinguish poetry from more objectivelyinformative prosaic writing  \""
      ]
     },
     "execution_count": 44,
     "metadata": {},
     "output_type": "execute_result"
    }
   ],
   "source": [
    "punctuatiions = \".,!#$%^&*@(){}[]/+-|:;<>\"\n",
    "new_message = \"\"\n",
    "for char in message:\n",
    "    if char not in punctuatiions:\n",
    "        \n",
    "        new_message += char\n",
    "\n",
    "new_message\n"
   ]
  },
  {
   "cell_type": "code",
   "execution_count": null,
   "metadata": {},
   "outputs": [],
   "source": []
  },
  {
   "cell_type": "code",
   "execution_count": null,
   "metadata": {},
   "outputs": [],
   "source": []
  }
 ],
 "metadata": {
  "kernelspec": {
   "display_name": "Python 3",
   "language": "python",
   "name": "python3"
  },
  "language_info": {
   "codemirror_mode": {
    "name": "ipython",
    "version": 3
   },
   "file_extension": ".py",
   "mimetype": "text/x-python",
   "name": "python",
   "nbconvert_exporter": "python",
   "pygments_lexer": "ipython3",
   "version": "3.10.7"
  },
  "orig_nbformat": 4
 },
 "nbformat": 4,
 "nbformat_minor": 2
}
