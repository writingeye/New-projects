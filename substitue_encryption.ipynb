{
 "cells": [
  {
   "attachments": {},
   "cell_type": "markdown",
   "metadata": {},
   "source": [
    "# Steps:\n",
    "1. make a sictionary where letters of the alphabet are mapped to random letters\n",
    "2. replace the letter of the cypher text with the values of the dictionary \n",
    "3. make a dictionary that counts the frequency of each letter\n",
    "4. make a dictionary of single double and triple words \n",
    "5. compare the frequency with single list and make a predition "
   ]
  },
  {
   "cell_type": "code",
   "execution_count": 63,
   "metadata": {},
   "outputs": [
    {
     "name": "stdout",
     "output_type": "stream",
     "text": [
      "original message: Poetry (derived from the Greek poiesis, making), also called verse,[note 1] is a form of literature that uses aesthetic and often rhythmic[1][2][3] qualities of language − such as phonaesthetics, sound symbolism, and metre − to evoke meanings in addition to, or in place of, a prosaic ostensible meaning. A poem is a literary composition, written by a poet, using this principle. Poetry has a long and varied history, evolving differentially across the globe. It dates back at least to prehistoric times with hunting poetry in Africa and to panegyric and elegiac court poetry of the empires of the Nile, Niger, and Volta River valleys.[4] Some of the earliest written poetry in Africa occurs among the Pyramid Texts written during the 25th century BCE. The earliest surviving Western Asian epic poetry, the Epic of Gilgamesh, was written in Sumerian. Early poems in the Eurasian continent evolved from folk songs such as the Chinese Shijing, as well as religious hymns (the Sanskrit Rigveda, the Zoroastrian Gathas, the Hurrian songs, and the Hebrew Psalms); or from a need to retell oral epics, as with the Egyptian Story of Sinuhe, the Indian epic poetry, and the Homeric epics, the Iliad and the Odyssey. Ancient Greek attempts to define poetry, such as Aristotle's Poetics, focused on the uses of speech in rhetoric, drama, song, and comedy. Later attempts concentrated on features such as repetition, verse form, and rhyme, and emphasized the aesthetics which distinguish poetry from more objectively-informative prosaic writing.   encypyted message:  Pligvh (oivxyio kvla gmi Gviiu blxidxd, aruxzs), rcdl erccio yivdi,[zlgi 1] xd r klva lk cxgivrgfvi gmrg fdid ridgmigxe rzo lkgiz vmhgmaxe[1][2][3] nfrcxgxid lk crzsfrsi − dfem rd bmlzridgmigxed, dlfzo dhaqlcxda, rzo aigvi − gl iylui airzxzsd xz rooxgxlz gl, lv xz bcrei lk, r bvldrxe ldgizdxqci airzxzs. A blia xd r cxgivrvh elabldxgxlz, jvxggiz qh r blig, fdxzs gmxd bvxzexbci. Pligvh mrd r clzs rzo yrvxio mxdglvh, iylcyxzs oxkkivizgxrcch revldd gmi sclqi. Ig orgid qreu rg cirdg gl bvimxdglvxe gxaid jxgm mfzgxzs bligvh xz Akvxer rzo gl brzishvxe rzo icisxre elfvg bligvh lk gmi iabxvid lk gmi Nxci, Nxsiv, rzo Vlcgr Rxyiv yrccihd.[4] Slai lk gmi irvcxidg jvxggiz bligvh xz Akvxer leefvd ralzs gmi Phvraxo Titgd jvxggiz ofvxzs gmi 25gm eizgfvh BCE. Tmi irvcxidg dfvyxyxzs Widgivz Adxrz ibxe bligvh, gmi Ebxe lk Gxcsraidm, jrd jvxggiz xz Sfaivxrz. Ervch bliad xz gmi Efvrdxrz elzgxzizg iylcyio kvla klcu dlzsd dfem rd gmi Cmxzidi Smxwxzs, rd jicc rd vicxsxlfd mhazd (gmi Srzduvxg Rxsyior, gmi Zlvlrdgvxrz Grgmrd, gmi Hfvvxrz dlzsd, rzo gmi Hiqvij Pdrcad); lv kvla r ziio gl vigicc lvrc ibxed, rd jxgm gmi Eshbgxrz Sglvh lk Sxzfmi, gmi Izoxrz ibxe bligvh, rzo gmi Hlaivxe ibxed, gmi Icxro rzo gmi Oohddih. Azexizg Gviiu rggiabgd gl oikxzi bligvh, dfem rd Avxdglgci'd Pligxed, klefdio lz gmi fdid lk dbiiem xz vmiglvxe, ovrar, dlzs, rzo elaioh. Lrgiv rggiabgd elzeizgvrgio lz kirgfvid dfem rd vibigxgxlz, yivdi klva, rzo vmhai, rzo iabmrdxpio gmi ridgmigxed jmxem oxdgxzsfxdm bligvh kvla alvi lqwiegxyich-xzklvargxyi bvldrxe jvxgxzs.  \n"
     ]
    }
   ],
   "source": [
    "import random\n",
    "\n",
    "alphabets = \"abcdefghijklmnopqrstuvwxyz\"\n",
    "alphabets_list = list(alphabets)\n",
    "alphabets_list_copy = alphabets_list.copy()\n",
    "random.shuffle(alphabets_list_copy)\n",
    "cypher_key = dict(zip(alphabets_list,alphabets_list_copy))\n",
    "message = \"Poetry (derived from the Greek poiesis, making), also called verse,[note 1] is a form of literature that uses aesthetic and often rhythmic[1][2][3] qualities of language − such as phonaesthetics, sound symbolism, and metre − to evoke meanings in addition to, or in place of, a prosaic ostensible meaning. A poem is a literary composition, written by a poet, using this principle. Poetry has a long and varied history, evolving differentially across the globe. It dates back at least to prehistoric times with hunting poetry in Africa and to panegyric and elegiac court poetry of the empires of the Nile, Niger, and Volta River valleys.[4] Some of the earliest written poetry in Africa occurs among the Pyramid Texts written during the 25th century BCE. The earliest surviving Western Asian epic poetry, the Epic of Gilgamesh, was written in Sumerian. Early poems in the Eurasian continent evolved from folk songs such as the Chinese Shijing, as well as religious hymns (the Sanskrit Rigveda, the Zoroastrian Gathas, the Hurrian songs, and the Hebrew Psalms); or from a need to retell oral epics, as with the Egyptian Story of Sinuhe, the Indian epic poetry, and the Homeric epics, the Iliad and the Odyssey. Ancient Greek attempts to define poetry, such as Aristotle's Poetics, focused on the uses of speech in rhetoric, drama, song, and comedy. Later attempts concentrated on features such as repetition, verse form, and rhyme, and emphasized the aesthetics which distinguish poetry from more objectively-informative prosaic writing.  \"\n",
    "\n",
    "encrypted_message = \"\"\n",
    "for char in message:\n",
    "    if char in cypher_key:\n",
    "        encrypted_message += cypher_key[char]\n",
    "    else:\n",
    "        encrypted_message += char\n",
    "            \n",
    "            \n",
    "print(\"original message:\",message, \"encypyted message: \",encrypted_message)\n"
   ]
  },
  {
   "cell_type": "code",
   "execution_count": null,
   "metadata": {},
   "outputs": [],
   "source": []
  },
  {
   "cell_type": "code",
   "execution_count": null,
   "metadata": {},
   "outputs": [],
   "source": []
  },
  {
   "attachments": {},
   "cell_type": "markdown",
   "metadata": {},
   "source": [
    "I  = [“a”, “b”, “c”, “d”, “e”] d = {“a”: “z”, “b”: “y”, “c”: “x”} for k, v in d.items (): l = [s.replace (k, v) for s in l]"
   ]
  },
  {
   "cell_type": "code",
   "execution_count": 47,
   "metadata": {},
   "outputs": [
    {
     "name": "stdout",
     "output_type": "stream",
     "text": [
      "svool dliow\n"
     ]
    }
   ],
   "source": []
  },
  {
   "cell_type": "code",
   "execution_count": null,
   "metadata": {},
   "outputs": [],
   "source": []
  }
 ],
 "metadata": {
  "kernelspec": {
   "display_name": "Python 3",
   "language": "python",
   "name": "python3"
  },
  "language_info": {
   "codemirror_mode": {
    "name": "ipython",
    "version": 3
   },
   "file_extension": ".py",
   "mimetype": "text/x-python",
   "name": "python",
   "nbconvert_exporter": "python",
   "pygments_lexer": "ipython3",
   "version": "3.10.7"
  },
  "orig_nbformat": 4
 },
 "nbformat": 4,
 "nbformat_minor": 2
}
